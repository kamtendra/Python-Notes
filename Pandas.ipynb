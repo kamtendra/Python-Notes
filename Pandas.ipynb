{
  "cells": [
    {
      "cell_type": "markdown",
      "metadata": {
        "id": "V8KqJmGk9Vqu"
      },
      "source": [
        "Loading data into Pandas"
      ]
    },
    {
      "cell_type": "code",
      "execution_count": null,
      "metadata": {
        "colab": {
          "base_uri": "https://localhost:8080/",
          "height": 206
        },
        "id": "wzAe7WaDrrdO",
        "outputId": "cf314ddf-96cf-4d5a-c797-a1729429e5d4"
      },
      "outputs": [],
      "source": [
        "import pandas as pd\n",
        "\n",
        "df = pd.read_csv('pokemon_data.csv') # to load csv file and convert it into dataframe\n",
        "\n",
        "df_xlsx = pd.read_excel('pokemon_data.xlsx') # to load csv file and convert it into dataframe\n",
        "\n",
        "# df_txt = pd.read_csv('pokemon_data.txt', delimeter='\\t') # to load txt or comma/tab separated file and convert it into dataframe\n",
        "\n",
        "df.head() #for top 5 data (df.tail(): for bottom 5 data)"
      ]
    },
    {
      "cell_type": "markdown",
      "metadata": {
        "id": "LDxFPJQyt0jE"
      },
      "source": [
        "Reading Data in Pandas"
      ]
    },
    {
      "cell_type": "code",
      "execution_count": null,
      "metadata": {
        "colab": {
          "base_uri": "https://localhost:8080/",
          "height": 237
        },
        "id": "7trsTQQ5r_YC",
        "outputId": "721acc1c-663c-45eb-8c28-1c671dac404f"
      },
      "outputs": [],
      "source": [
        "# # Read headers\n",
        "# print(df.columns)\n",
        "\n",
        "# # Read each column\n",
        "# print(df['Name'][0:5]) # df.name\n",
        "# print(df[['Name','Type 1', 'HP']])\n",
        "\n",
        "# # Read row\n",
        "# print(df.iloc[0:4])\n",
        "\n",
        "# # Read a specific location (R,C)\n",
        "# print(df.iloc[2,1]) #2nd row, 1st column\n",
        "\n",
        "# # for index,row in df.iterrows():\n",
        "# #   print(index,row)\n",
        "\n",
        "# find specific data\n",
        "df.loc[(df['Type 1'] == 'Fire') & (df['Type 2'] == 'Flying')]\n"
      ]
    },
    {
      "cell_type": "markdown",
      "metadata": {
        "id": "CBpO2Y8DzAhU"
      },
      "source": [
        "Sorting/ Describing Data"
      ]
    },
    {
      "cell_type": "code",
      "execution_count": null,
      "metadata": {
        "colab": {
          "base_uri": "https://localhost:8080/",
          "height": 423
        },
        "id": "lMWZrSgSzDRt",
        "outputId": "c969784a-1f3f-4fe4-c5f3-f0540257d57c"
      },
      "outputs": [],
      "source": [
        "# df.describe() #give few info\n",
        "\n",
        "#sorting\n",
        "# df.sort_values('Name', ascending= False)\n",
        "df.sort_values(['Type 1', 'HP'], ascending=[1,0])\n"
      ]
    },
    {
      "cell_type": "markdown",
      "metadata": {
        "id": "Wq2C7TiY13ah"
      },
      "source": [
        "Making changes to the data"
      ]
    },
    {
      "cell_type": "code",
      "execution_count": null,
      "metadata": {
        "colab": {
          "base_uri": "https://localhost:8080/",
          "height": 423
        },
        "id": "bYHLZeNF18It",
        "outputId": "cf467119-82d5-4276-a8e9-42ddc71b06c7"
      },
      "outputs": [],
      "source": [
        "# adding a column\n",
        "#  df['Total']=df['HP'] + df['Attack'] + df['Defense'] + df['Sp. Atk'] + df['Sp. Def'] + df['Speed']\n",
        "df['Total']=df.iloc[:,4:10].sum(axis=1) # axis=1:horizontal $ axis=0:vertical\n",
        "\n",
        "# deleting a column\n",
        "# df= df.drop(columns=['Total'])\n",
        "\n",
        "df\n"
      ]
    },
    {
      "cell_type": "markdown",
      "metadata": {
        "id": "4wxIYYIY9PUe"
      },
      "source": [
        "Saving our Data (Exporting into desired format)\n",
        "\n",
        "\n"
      ]
    },
    {
      "cell_type": "code",
      "execution_count": null,
      "metadata": {
        "id": "1638gw7I9lyX"
      },
      "outputs": [],
      "source": [
        "# df.to_csv('modified.csv')\n",
        "# df.to_csv('modified.csv', index=False) #save without index\n",
        "\n",
        "# df.to_excel('modified.xlsx',index=False)\n",
        "\n",
        "# df.to_json('modified.json')\n",
        "\n",
        "# df.to_csv('modified.txt', index=False, sep='\\t')"
      ]
    },
    {
      "cell_type": "markdown",
      "metadata": {
        "id": "jn5ppqeL_Uw4"
      },
      "source": [
        "Filtering Data"
      ]
    },
    {
      "cell_type": "code",
      "execution_count": null,
      "metadata": {
        "colab": {
          "base_uri": "https://localhost:8080/",
          "height": 1000
        },
        "id": "WJ5Lvq27_Wmp",
        "outputId": "68ccee67-5833-4a68-ff72-52b18f4c1236"
      },
      "outputs": [],
      "source": [
        "# new_df= df.loc[(df['Type 1'] == 'Fire') & (df['Type 2'] == 'Flying') & (df['HP']>70)]\n",
        "\n",
        "# we find that after filtering indexing is messed up and not by order\n",
        "# to reset index\n",
        "# new_df.reset_index(drop=True, inplace=True)\n",
        "\n",
        "# Regex/ Pattern Filtering\n",
        "df.loc[df['Name'].str.contains('Mega')]\n",
        "# df.loc[~df['Name'].str.contains('Mega')]\n"
      ]
    },
    {
      "cell_type": "markdown",
      "metadata": {
        "id": "PCBPxfzdERYy"
      },
      "source": [
        "Conditional Changes"
      ]
    },
    {
      "cell_type": "code",
      "execution_count": null,
      "metadata": {
        "colab": {
          "base_uri": "https://localhost:8080/",
          "height": 423
        },
        "id": "KtjN84htEaiF",
        "outputId": "c70ab5d6-2895-4af8-815c-e006c28987c3"
      },
      "outputs": [],
      "source": [
        "# df.loc[df['Type 1']=='Fire', 'Type 1'] = 'Flamer' # change the column having Type 1 as Fire to Flamer\n",
        "# df.loc[df['Type 1']=='Flamer', 'Legendary'] = True\n",
        "df.loc[df['Total'] > 500, ['Generation','Legendary']] = ['Change 1', 'Change 2']\n",
        "\n",
        "df"
      ]
    },
    {
      "cell_type": "markdown",
      "metadata": {
        "id": "sRdVjdqSHbK0"
      },
      "source": []
    },
    {
      "cell_type": "markdown",
      "metadata": {
        "id": "FIre5jLKHdFO"
      },
      "source": [
        "Aggregate Statics (Grouby)"
      ]
    },
    {
      "cell_type": "code",
      "execution_count": null,
      "metadata": {
        "colab": {
          "base_uri": "https://localhost:8080/",
          "height": 700
        },
        "id": "pROMr44JHg4o",
        "outputId": "8471c063-5901-49aa-ab80-23d2a61863cb"
      },
      "outputs": [],
      "source": [
        "df = pd.read_csv('modified.csv')\n",
        "\n",
        "# df.groupby(['Type 1']).mean().sort_values('HP', ascending = False)\n",
        "\n",
        "df.groupby(['Type 1']).sum()\n",
        "\n",
        "df.groupby(['Type 1']).count()"
      ]
    },
    {
      "cell_type": "markdown",
      "metadata": {
        "id": "pa1WgG4VJoKU"
      },
      "source": [
        "Working with large amount of data"
      ]
    },
    {
      "cell_type": "code",
      "execution_count": null,
      "metadata": {
        "id": "I49ayd0NJjgo"
      },
      "outputs": [],
      "source": []
    }
  ],
  "metadata": {
    "colab": {
      "provenance": []
    },
    "kernelspec": {
      "display_name": "Python 3",
      "name": "python3"
    },
    "language_info": {
      "name": "python"
    }
  },
  "nbformat": 4,
  "nbformat_minor": 0
}
